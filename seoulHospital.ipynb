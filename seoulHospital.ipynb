{
 "cells": [
  {
   "cell_type": "code",
   "execution_count": 63,
   "id": "particular-confirmation",
   "metadata": {},
   "outputs": [],
   "source": [
    "import pandas as pd\n",
    "import numpy as np\n",
    "import seaborn as sns"
   ]
  },
  {
   "cell_type": "code",
   "execution_count": 64,
   "id": "fantastic-scope",
   "metadata": {},
   "outputs": [],
   "source": [
    "# 주석 설정 -> ctrl 혹은 cmd + /\n",
    "# 폰트 설정\n",
    "import matplotlib.pyplot as plt\n",
    "plt.rc('font', family='Malgun Gothic')\n",
    "plt.rc('axes', unicode_minus=False)\n",
    "\n",
    "%matplotlib inline"
   ]
  },
  {
   "cell_type": "markdown",
   "id": "ecological-question",
   "metadata": {},
   "source": [
    "# 데이터 로드\n",
    "* .read_csv(\"파일경로\") <- 파일의 데이터를 읽어온다\n",
    "* .shape <- 데이터의 갯수를 찍어준다 (무조건 \"행,열\" 순으로 출력)\n",
    "\n",
    "# 데이터 확인\n",
    "* .head() <- 다섯개의 행 데이터를 디폴트로 볼 수 있다.\n",
    "* .tail() <- 마지막 부분에 있는 데이터 미리보기 가능\n",
    "* .info() <- 데이터 요약으로 볼 수 있음\n",
    "* .columns <- 컬럼명만 출력\n",
    "* .dtypes <- 데이터타입 확인\n",
    "\n",
    "# 결측치\n",
    "* .isnull() <- 데이터 값이 null값인지 아닌지 확인 null인 경우 True로 표시\n",
    "    * isnull().sum() <- 결측치가 몇개가 있는지 카운트해서 보여준다\n",
    "* 계산한 결측치 수를 resset_index 통해서 데이터프레임으로 만들 수 있다\n",
    "* NaN == Not a Number의 약자 <- 결측치 의미"
   ]
  },
  {
   "cell_type": "code",
   "execution_count": 65,
   "id": "mobile-application",
   "metadata": {},
   "outputs": [
    {
     "data": {
      "text/plain": [
       "(91335, 39)"
      ]
     },
     "execution_count": 65,
     "metadata": {},
     "output_type": "execute_result"
    }
   ],
   "source": [
    "df = pd.read_csv(\"data/상가(상권)정보_의료기관_201909.csv\", low_memory=False)\n",
    "df.shape"
   ]
  },
  {
   "cell_type": "code",
   "execution_count": 66,
   "id": "consolidated-bachelor",
   "metadata": {},
   "outputs": [],
   "source": [
    "df.head()\n",
    "df.tail()\n",
    "df.info\n",
    "df.columns\n",
    "df.dtypes\n",
    "df.isnull().sum()\n",
    "null_count = df.isnull().sum()"
   ]
  },
  {
   "cell_type": "markdown",
   "id": "preceding-handbook",
   "metadata": {},
   "source": [
    "# 그래프 확인\n",
    "* .plot()를 통해 그래프로 확인 가능\n",
    "    * plot을 적은 뒤 .을 누르고 Tab키를 누르면 여러 그래프를 그릴 수 있는 속성이 나온다.\n",
    "    * kde, density -> 밀도\n",
    "    * line -> 기본값, 선그래프\n",
    "    * pie -> 파이 차트\n",
    "    * bar()\n",
    "        * 글자가 세워져서 나오는데 rot=숫자 이렇게 옵션을 줘서 글자를 돌릴 수 있다.\n",
    "        * barh() -> x,y축을 바꾸어서 보여준다\n",
    "        * figsize=(x,y) <- 그래프 크기 조정"
   ]
  },
  {
   "cell_type": "code",
   "execution_count": 67,
   "id": "respiratory-difficulty",
   "metadata": {},
   "outputs": [
    {
     "data": {
      "text/plain": [
       "<AxesSubplot:>"
      ]
     },
     "execution_count": 67,
     "metadata": {},
     "output_type": "execute_result"
    },
    {
     "data": {
      "image/png": "[encoded data removed]",
      "text/plain": [
       "<Figure size 360x504 with 1 Axes>"
      ]
     },
     "metadata": {
      "needs_background": "light"
     },
     "output_type": "display_data"
    }
   ],
   "source": [
    "null_count.plot.barh(figsize=(5,7))"
   ]
  },
  {
   "cell_type": "markdown",
   "id": "incoming-buddy",
   "metadata": {},
   "source": [
    "* 계산한 결측치 수를 reset_index 통해서 데이터프레임으로 만들 수 있다"
   ]
  },
  {
   "cell_type": "code",
   "execution_count": 68,
   "id": "moving-cookie",
   "metadata": {},
   "outputs": [
    {
     "data": {
      "text/html": [
       "<div>\n",
       "<style scoped>\n",
       "    .dataframe tbody tr th:only-of-type {\n",
       "        vertical-align: middle;\n",
       "    }\n",
       "\n",
       "    .dataframe tbody tr th {\n",
       "        vertical-align: top;\n",
       "    }\n",
       "\n",
       "    .dataframe thead th {\n",
       "        text-align: right;\n",
       "    }\n",
       "</style>\n",
       "<table border=\"1\" class=\"dataframe\">\n",
       "  <thead>\n",
       "    <tr style=\"text-align: right;\">\n",
       "      <th></th>\n",
       "      <th>index</th>\n",
       "      <th>0</th>\n",
       "    </tr>\n",
       "  </thead>\n",
       "  <tbody>\n",
       "    <tr>\n",
       "      <th>0</th>\n",
       "      <td>상가업소번호</td>\n",
       "      <td>0</td>\n",
       "    </tr>\n",
       "    <tr>\n",
       "      <th>1</th>\n",
       "      <td>상호명</td>\n",
       "      <td>0</td>\n",
       "    </tr>\n",
       "    <tr>\n",
       "      <th>2</th>\n",
       "      <td>지점명</td>\n",
       "      <td>89989</td>\n",
       "    </tr>\n",
       "    <tr>\n",
       "      <th>3</th>\n",
       "      <td>상권업종대분류코드</td>\n",
       "      <td>0</td>\n",
       "    </tr>\n",
       "    <tr>\n",
       "      <th>4</th>\n",
       "      <td>상권업종대분류명</td>\n",
       "      <td>0</td>\n",
       "    </tr>\n",
       "  </tbody>\n",
       "</table>\n",
       "</div>"
      ],
      "text/plain": [
       "       index      0\n",
       "0     상가업소번호      0\n",
       "1        상호명      0\n",
       "2        지점명  89989\n",
       "3  상권업종대분류코드      0\n",
       "4   상권업종대분류명      0"
      ]
     },
     "execution_count": 68,
     "metadata": {},
     "output_type": "execute_result"
    }
   ],
   "source": [
    "df_null_count = null_count.reset_index()\n",
    "df_null_count.head()"
   ]
  },
  {
   "cell_type": "markdown",
   "id": "excess-helena",
   "metadata": {},
   "source": [
    "# 컬럼명\n",
    "* 컬럼명을 변경 할 때 => 변수.columns = [\"바꾸고 싶은 컬럼명\", \"바꾸고 싶은 컬럼명2\"]"
   ]
  },
  {
   "cell_type": "code",
   "execution_count": 69,
   "id": "cloudy-kitchen",
   "metadata": {},
   "outputs": [
    {
     "data": {
      "text/html": [
       "<div>\n",
       "<style scoped>\n",
       "    .dataframe tbody tr th:only-of-type {\n",
       "        vertical-align: middle;\n",
       "    }\n",
       "\n",
       "    .dataframe tbody tr th {\n",
       "        vertical-align: top;\n",
       "    }\n",
       "\n",
       "    .dataframe thead th {\n",
       "        text-align: right;\n",
       "    }\n",
       "</style>\n",
       "<table border=\"1\" class=\"dataframe\">\n",
       "  <thead>\n",
       "    <tr style=\"text-align: right;\">\n",
       "      <th></th>\n",
       "      <th>컬럼명</th>\n",
       "      <th>결측치수</th>\n",
       "    </tr>\n",
       "  </thead>\n",
       "  <tbody>\n",
       "    <tr>\n",
       "      <th>0</th>\n",
       "      <td>상가업소번호</td>\n",
       "      <td>0</td>\n",
       "    </tr>\n",
       "    <tr>\n",
       "      <th>1</th>\n",
       "      <td>상호명</td>\n",
       "      <td>0</td>\n",
       "    </tr>\n",
       "    <tr>\n",
       "      <th>2</th>\n",
       "      <td>지점명</td>\n",
       "      <td>89989</td>\n",
       "    </tr>\n",
       "    <tr>\n",
       "      <th>3</th>\n",
       "      <td>상권업종대분류코드</td>\n",
       "      <td>0</td>\n",
       "    </tr>\n",
       "    <tr>\n",
       "      <th>4</th>\n",
       "      <td>상권업종대분류명</td>\n",
       "      <td>0</td>\n",
       "    </tr>\n",
       "    <tr>\n",
       "      <th>5</th>\n",
       "      <td>상권업종중분류코드</td>\n",
       "      <td>0</td>\n",
       "    </tr>\n",
       "    <tr>\n",
       "      <th>6</th>\n",
       "      <td>상권업종중분류명</td>\n",
       "      <td>0</td>\n",
       "    </tr>\n",
       "    <tr>\n",
       "      <th>7</th>\n",
       "      <td>상권업종소분류코드</td>\n",
       "      <td>0</td>\n",
       "    </tr>\n",
       "    <tr>\n",
       "      <th>8</th>\n",
       "      <td>상권업종소분류명</td>\n",
       "      <td>0</td>\n",
       "    </tr>\n",
       "    <tr>\n",
       "      <th>9</th>\n",
       "      <td>표준산업분류코드</td>\n",
       "      <td>4922</td>\n",
       "    </tr>\n",
       "    <tr>\n",
       "      <th>10</th>\n",
       "      <td>표준산업분류명</td>\n",
       "      <td>4922</td>\n",
       "    </tr>\n",
       "    <tr>\n",
       "      <th>11</th>\n",
       "      <td>시도코드</td>\n",
       "      <td>379</td>\n",
       "    </tr>\n",
       "    <tr>\n",
       "      <th>12</th>\n",
       "      <td>시도명</td>\n",
       "      <td>379</td>\n",
       "    </tr>\n",
       "    <tr>\n",
       "      <th>13</th>\n",
       "      <td>시군구코드</td>\n",
       "      <td>379</td>\n",
       "    </tr>\n",
       "    <tr>\n",
       "      <th>14</th>\n",
       "      <td>시군구명</td>\n",
       "      <td>379</td>\n",
       "    </tr>\n",
       "    <tr>\n",
       "      <th>15</th>\n",
       "      <td>행정동코드</td>\n",
       "      <td>0</td>\n",
       "    </tr>\n",
       "    <tr>\n",
       "      <th>16</th>\n",
       "      <td>행정동명</td>\n",
       "      <td>379</td>\n",
       "    </tr>\n",
       "    <tr>\n",
       "      <th>17</th>\n",
       "      <td>법정동코드</td>\n",
       "      <td>55</td>\n",
       "    </tr>\n",
       "    <tr>\n",
       "      <th>18</th>\n",
       "      <td>법정동명</td>\n",
       "      <td>55</td>\n",
       "    </tr>\n",
       "    <tr>\n",
       "      <th>19</th>\n",
       "      <td>지번코드</td>\n",
       "      <td>0</td>\n",
       "    </tr>\n",
       "    <tr>\n",
       "      <th>20</th>\n",
       "      <td>대지구분코드</td>\n",
       "      <td>0</td>\n",
       "    </tr>\n",
       "    <tr>\n",
       "      <th>21</th>\n",
       "      <td>대지구분명</td>\n",
       "      <td>0</td>\n",
       "    </tr>\n",
       "    <tr>\n",
       "      <th>22</th>\n",
       "      <td>지번본번지</td>\n",
       "      <td>0</td>\n",
       "    </tr>\n",
       "    <tr>\n",
       "      <th>23</th>\n",
       "      <td>지번부번지</td>\n",
       "      <td>19256</td>\n",
       "    </tr>\n",
       "    <tr>\n",
       "      <th>24</th>\n",
       "      <td>지번주소</td>\n",
       "      <td>0</td>\n",
       "    </tr>\n",
       "    <tr>\n",
       "      <th>25</th>\n",
       "      <td>도로명코드</td>\n",
       "      <td>0</td>\n",
       "    </tr>\n",
       "    <tr>\n",
       "      <th>26</th>\n",
       "      <td>도로명</td>\n",
       "      <td>0</td>\n",
       "    </tr>\n",
       "    <tr>\n",
       "      <th>27</th>\n",
       "      <td>건물본번지</td>\n",
       "      <td>0</td>\n",
       "    </tr>\n",
       "    <tr>\n",
       "      <th>28</th>\n",
       "      <td>건물부번지</td>\n",
       "      <td>80731</td>\n",
       "    </tr>\n",
       "    <tr>\n",
       "      <th>29</th>\n",
       "      <td>건물관리번호</td>\n",
       "      <td>0</td>\n",
       "    </tr>\n",
       "    <tr>\n",
       "      <th>30</th>\n",
       "      <td>건물명</td>\n",
       "      <td>44882</td>\n",
       "    </tr>\n",
       "    <tr>\n",
       "      <th>31</th>\n",
       "      <td>도로명주소</td>\n",
       "      <td>0</td>\n",
       "    </tr>\n",
       "    <tr>\n",
       "      <th>32</th>\n",
       "      <td>구우편번호</td>\n",
       "      <td>12</td>\n",
       "    </tr>\n",
       "    <tr>\n",
       "      <th>33</th>\n",
       "      <td>신우편번호</td>\n",
       "      <td>2</td>\n",
       "    </tr>\n",
       "    <tr>\n",
       "      <th>34</th>\n",
       "      <td>동정보</td>\n",
       "      <td>83929</td>\n",
       "    </tr>\n",
       "    <tr>\n",
       "      <th>35</th>\n",
       "      <td>층정보</td>\n",
       "      <td>47291</td>\n",
       "    </tr>\n",
       "    <tr>\n",
       "      <th>36</th>\n",
       "      <td>호정보</td>\n",
       "      <td>75784</td>\n",
       "    </tr>\n",
       "    <tr>\n",
       "      <th>37</th>\n",
       "      <td>경도</td>\n",
       "      <td>0</td>\n",
       "    </tr>\n",
       "    <tr>\n",
       "      <th>38</th>\n",
       "      <td>위도</td>\n",
       "      <td>0</td>\n",
       "    </tr>\n",
       "  </tbody>\n",
       "</table>\n",
       "</div>"
      ],
      "text/plain": [
       "          컬럼명   결측치수\n",
       "0      상가업소번호      0\n",
       "1         상호명      0\n",
       "2         지점명  89989\n",
       "3   상권업종대분류코드      0\n",
       "4    상권업종대분류명      0\n",
       "5   상권업종중분류코드      0\n",
       "6    상권업종중분류명      0\n",
       "7   상권업종소분류코드      0\n",
       "8    상권업종소분류명      0\n",
       "9    표준산업분류코드   4922\n",
       "10    표준산업분류명   4922\n",
       "11       시도코드    379\n",
       "12        시도명    379\n",
       "13      시군구코드    379\n",
       "14       시군구명    379\n",
       "15      행정동코드      0\n",
       "16       행정동명    379\n",
       "17      법정동코드     55\n",
       "18       법정동명     55\n",
       "19       지번코드      0\n",
       "20     대지구분코드      0\n",
       "21      대지구분명      0\n",
       "22      지번본번지      0\n",
       "23      지번부번지  19256\n",
       "24       지번주소      0\n",
       "25      도로명코드      0\n",
       "26        도로명      0\n",
       "27      건물본번지      0\n",
       "28      건물부번지  80731\n",
       "29     건물관리번호      0\n",
       "30        건물명  44882\n",
       "31      도로명주소      0\n",
       "32      구우편번호     12\n",
       "33      신우편번호      2\n",
       "34        동정보  83929\n",
       "35        층정보  47291\n",
       "36        호정보  75784\n",
       "37         경도      0\n",
       "38         위도      0"
      ]
     },
     "execution_count": 69,
     "metadata": {},
     "output_type": "execute_result"
    }
   ],
   "source": [
    "df_null_count.columns = [\"컬럼명\", \"결측치수\"]\n",
    "df_null_count"
   ]
  },
  {
   "cell_type": "markdown",
   "id": "documented-feeding",
   "metadata": {},
   "source": [
    "# 정렬\n",
    "\n",
    "* .sort_values() -> valudes값으로 정렬\n",
    "    * by=\"정렬하고싶은 컬럼\" -> 적은 순서대로 정렬\n",
    "    * ascending=False -> 큰 순서대로 정렬 (True가 디폴트)\n",
    "* .sort_index() -> index값으로 정렬"
   ]
  },
  {
   "cell_type": "code",
   "execution_count": 70,
   "id": "photographic-ethiopia",
   "metadata": {},
   "outputs": [
    {
     "data": {
      "text/html": [
       "<div>\n",
       "<style scoped>\n",
       "    .dataframe tbody tr th:only-of-type {\n",
       "        vertical-align: middle;\n",
       "    }\n",
       "\n",
       "    .dataframe tbody tr th {\n",
       "        vertical-align: top;\n",
       "    }\n",
       "\n",
       "    .dataframe thead th {\n",
       "        text-align: right;\n",
       "    }\n",
       "</style>\n",
       "<table border=\"1\" class=\"dataframe\">\n",
       "  <thead>\n",
       "    <tr style=\"text-align: right;\">\n",
       "      <th></th>\n",
       "      <th>컬럼명</th>\n",
       "      <th>결측치수</th>\n",
       "    </tr>\n",
       "  </thead>\n",
       "  <tbody>\n",
       "    <tr>\n",
       "      <th>2</th>\n",
       "      <td>지점명</td>\n",
       "      <td>89989</td>\n",
       "    </tr>\n",
       "    <tr>\n",
       "      <th>34</th>\n",
       "      <td>동정보</td>\n",
       "      <td>83929</td>\n",
       "    </tr>\n",
       "    <tr>\n",
       "      <th>28</th>\n",
       "      <td>건물부번지</td>\n",
       "      <td>80731</td>\n",
       "    </tr>\n",
       "    <tr>\n",
       "      <th>36</th>\n",
       "      <td>호정보</td>\n",
       "      <td>75784</td>\n",
       "    </tr>\n",
       "    <tr>\n",
       "      <th>35</th>\n",
       "      <td>층정보</td>\n",
       "      <td>47291</td>\n",
       "    </tr>\n",
       "    <tr>\n",
       "      <th>30</th>\n",
       "      <td>건물명</td>\n",
       "      <td>44882</td>\n",
       "    </tr>\n",
       "    <tr>\n",
       "      <th>23</th>\n",
       "      <td>지번부번지</td>\n",
       "      <td>19256</td>\n",
       "    </tr>\n",
       "    <tr>\n",
       "      <th>9</th>\n",
       "      <td>표준산업분류코드</td>\n",
       "      <td>4922</td>\n",
       "    </tr>\n",
       "    <tr>\n",
       "      <th>10</th>\n",
       "      <td>표준산업분류명</td>\n",
       "      <td>4922</td>\n",
       "    </tr>\n",
       "    <tr>\n",
       "      <th>11</th>\n",
       "      <td>시도코드</td>\n",
       "      <td>379</td>\n",
       "    </tr>\n",
       "  </tbody>\n",
       "</table>\n",
       "</div>"
      ],
      "text/plain": [
       "         컬럼명   결측치수\n",
       "2        지점명  89989\n",
       "34       동정보  83929\n",
       "28     건물부번지  80731\n",
       "36       호정보  75784\n",
       "35       층정보  47291\n",
       "30       건물명  44882\n",
       "23     지번부번지  19256\n",
       "9   표준산업분류코드   4922\n",
       "10   표준산업분류명   4922\n",
       "11      시도코드    379"
      ]
     },
     "execution_count": 70,
     "metadata": {},
     "output_type": "execute_result"
    }
   ],
   "source": [
    "df_null_count_top = df_null_count.sort_values(by=\"결측치수\", ascending=False).head(10)\n",
    "df_null_count_top\n",
    "# 만약에 데이터가 너무 커서 결측치 분석 속도가 너무 오래 걸릴경우 사용하지 않는 것도 하나의 방법"
   ]
  },
  {
   "cell_type": "markdown",
   "id": "trying-breast",
   "metadata": {},
   "source": [
    "# 특정 컬럼\n",
    "\n",
    "* 특정 컬럼을 불러오는 방법 -> 변수[\"불러오고 싶은 컬럼명\"]\n",
    "* 변수[\"특정 컬럼명\"].tolist()를 주면 리스트 형태롤 변경해준다."
   ]
  },
  {
   "cell_type": "code",
   "execution_count": 71,
   "id": "automated-demand",
   "metadata": {},
   "outputs": [
    {
     "data": {
      "text/plain": [
       "['지점명',\n",
       " '동정보',\n",
       " '건물부번지',\n",
       " '호정보',\n",
       " '층정보',\n",
       " '건물명',\n",
       " '지번부번지',\n",
       " '표준산업분류코드',\n",
       " '표준산업분류명',\n",
       " '시도코드']"
      ]
     },
     "execution_count": 71,
     "metadata": {},
     "output_type": "execute_result"
    }
   ],
   "source": [
    "drop_columns = df_null_count_top[\"컬럼명\"].tolist()\n",
    "drop_columns "
   ]
  },
  {
   "cell_type": "code",
   "execution_count": 72,
   "id": "abstract-leone",
   "metadata": {},
   "outputs": [
    {
     "data": {
      "text/html": [
       "<div>\n",
       "<style scoped>\n",
       "    .dataframe tbody tr th:only-of-type {\n",
       "        vertical-align: middle;\n",
       "    }\n",
       "\n",
       "    .dataframe tbody tr th {\n",
       "        vertical-align: top;\n",
       "    }\n",
       "\n",
       "    .dataframe thead th {\n",
       "        text-align: right;\n",
       "    }\n",
       "</style>\n",
       "<table border=\"1\" class=\"dataframe\">\n",
       "  <thead>\n",
       "    <tr style=\"text-align: right;\">\n",
       "      <th></th>\n",
       "      <th>지점명</th>\n",
       "      <th>동정보</th>\n",
       "      <th>건물부번지</th>\n",
       "      <th>호정보</th>\n",
       "      <th>층정보</th>\n",
       "      <th>건물명</th>\n",
       "      <th>지번부번지</th>\n",
       "      <th>표준산업분류코드</th>\n",
       "      <th>표준산업분류명</th>\n",
       "      <th>시도코드</th>\n",
       "    </tr>\n",
       "  </thead>\n",
       "  <tbody>\n",
       "    <tr>\n",
       "      <th>0</th>\n",
       "      <td>NaN</td>\n",
       "      <td>NaN</td>\n",
       "      <td>NaN</td>\n",
       "      <td>NaN</td>\n",
       "      <td>NaN</td>\n",
       "      <td>산호한양아파트</td>\n",
       "      <td>NaN</td>\n",
       "      <td>Q86201</td>\n",
       "      <td>일반 의원</td>\n",
       "      <td>41.0</td>\n",
       "    </tr>\n",
       "    <tr>\n",
       "      <th>1</th>\n",
       "      <td>NaN</td>\n",
       "      <td>NaN</td>\n",
       "      <td>NaN</td>\n",
       "      <td>NaN</td>\n",
       "      <td>4</td>\n",
       "      <td>NaN</td>\n",
       "      <td>14.0</td>\n",
       "      <td>Q86201</td>\n",
       "      <td>일반 의원</td>\n",
       "      <td>11.0</td>\n",
       "    </tr>\n",
       "    <tr>\n",
       "      <th>2</th>\n",
       "      <td>NaN</td>\n",
       "      <td>NaN</td>\n",
       "      <td>NaN</td>\n",
       "      <td>NaN</td>\n",
       "      <td>NaN</td>\n",
       "      <td>한라프라자</td>\n",
       "      <td>1.0</td>\n",
       "      <td>Q86201</td>\n",
       "      <td>일반 의원</td>\n",
       "      <td>41.0</td>\n",
       "    </tr>\n",
       "    <tr>\n",
       "      <th>3</th>\n",
       "      <td>NaN</td>\n",
       "      <td>NaN</td>\n",
       "      <td>NaN</td>\n",
       "      <td>NaN</td>\n",
       "      <td>5</td>\n",
       "      <td>NaN</td>\n",
       "      <td>1.0</td>\n",
       "      <td>NaN</td>\n",
       "      <td>NaN</td>\n",
       "      <td>26.0</td>\n",
       "    </tr>\n",
       "    <tr>\n",
       "      <th>4</th>\n",
       "      <td>수지점</td>\n",
       "      <td>NaN</td>\n",
       "      <td>NaN</td>\n",
       "      <td>NaN</td>\n",
       "      <td>1</td>\n",
       "      <td>NaN</td>\n",
       "      <td>2.0</td>\n",
       "      <td>G47811</td>\n",
       "      <td>의약품 및 의료용품 소매업</td>\n",
       "      <td>41.0</td>\n",
       "    </tr>\n",
       "  </tbody>\n",
       "</table>\n",
       "</div>"
      ],
      "text/plain": [
       "   지점명  동정보  건물부번지  호정보  층정보      건물명  지번부번지 표준산업분류코드         표준산업분류명  시도코드\n",
       "0  NaN  NaN    NaN  NaN  NaN  산호한양아파트    NaN   Q86201           일반 의원  41.0\n",
       "1  NaN  NaN    NaN  NaN    4      NaN   14.0   Q86201           일반 의원  11.0\n",
       "2  NaN  NaN    NaN  NaN  NaN    한라프라자    1.0   Q86201           일반 의원  41.0\n",
       "3  NaN  NaN    NaN  NaN    5      NaN    1.0      NaN             NaN  26.0\n",
       "4  수지점  NaN    NaN  NaN    1      NaN    2.0   G47811  의약품 및 의료용품 소매업  41.0"
      ]
     },
     "execution_count": 72,
     "metadata": {},
     "output_type": "execute_result"
    }
   ],
   "source": [
    "# drop_columns 변수로 해당 컬럼 정보만 데이터프레임에서 가져온다. \n",
    "\n",
    "# 조금 더 깊은 이해 필요.....ㅠㅠ\n",
    "\n",
    "df[drop_columns].head()"
   ]
  },
  {
   "cell_type": "markdown",
   "id": "respective-personality",
   "metadata": {},
   "source": [
    "# 데이터 제거\n",
    "\n",
    "* 데이터프레임.drop(제거할 컬럼 지정, 옵션...)\n",
    "    * axis=0 <- 행 기준\n",
    "    * axis=1 <- 컬럼 기준"
   ]
  },
  {
   "cell_type": "code",
   "execution_count": 73,
   "id": "electronic-enough",
   "metadata": {},
   "outputs": [
    {
     "name": "stdout",
     "output_type": "stream",
     "text": [
      "(91335, 39)\n",
      "(91335, 29)\n",
      "<class 'pandas.core.frame.DataFrame'>\n",
      "RangeIndex: 91335 entries, 0 to 91334\n",
      "Data columns (total 29 columns):\n",
      " #   Column     Non-Null Count  Dtype  \n",
      "---  ------     --------------  -----  \n",
      " 0   상가업소번호     91335 non-null  int64  \n",
      " 1   상호명        91335 non-null  object \n",
      " 2   상권업종대분류코드  91335 non-null  object \n",
      " 3   상권업종대분류명   91335 non-null  object \n",
      " 4   상권업종중분류코드  91335 non-null  object \n",
      " 5   상권업종중분류명   91335 non-null  object \n",
      " 6   상권업종소분류코드  91335 non-null  object \n",
      " 7   상권업종소분류명   91335 non-null  object \n",
      " 8   시도명        90956 non-null  object \n",
      " 9   시군구코드      90956 non-null  float64\n",
      " 10  시군구명       90956 non-null  object \n",
      " 11  행정동코드      91335 non-null  int64  \n",
      " 12  행정동명       90956 non-null  object \n",
      " 13  법정동코드      91280 non-null  float64\n",
      " 14  법정동명       91280 non-null  object \n",
      " 15  지번코드       91335 non-null  int64  \n",
      " 16  대지구분코드     91335 non-null  int64  \n",
      " 17  대지구분명      91335 non-null  object \n",
      " 18  지번본번지      91335 non-null  int64  \n",
      " 19  지번주소       91335 non-null  object \n",
      " 20  도로명코드      91335 non-null  int64  \n",
      " 21  도로명        91335 non-null  object \n",
      " 22  건물본번지      91335 non-null  int64  \n",
      " 23  건물관리번호     91335 non-null  object \n",
      " 24  도로명주소      91335 non-null  object \n",
      " 25  구우편번호      91323 non-null  float64\n",
      " 26  신우편번호      91333 non-null  float64\n",
      " 27  경도         91335 non-null  float64\n",
      " 28  위도         91335 non-null  float64\n",
      "dtypes: float64(6), int64(7), object(16)\n",
      "memory usage: 20.2+ MB\n"
     ]
    }
   ],
   "source": [
    "print(df.shape)\n",
    "df = df.drop(drop_columns, axis=1) # 반드시 다시 넣어줘야만 저장할 수 있음\n",
    "print(df.shape)\n",
    "df.info()"
   ]
  },
  {
   "cell_type": "markdown",
   "id": "returning-allowance",
   "metadata": {},
   "source": [
    "# 통계\n",
    "\n",
    "* df.dtypes를 통해 float이나 int같이 수치형 데이터에서만 통계 수치를 구할 수 있음\n",
    "* 데이터프레임[\"컬럼명\"].mean() -> 평균값\n",
    "    * 평균값은 최대값이나 최소값에 의해서 편향이 되는 면이 있다.\n",
    "* .median() -> 중앙값 <= 가운데 있는 값을 의미한다.\n",
    "    * 중앙값 같은 경우 평균값과 달리 최대값이나 최소값에 영향을 받지 않는다.\n",
    "* .max() -> 최대값\n",
    "* .min() -> 최솟값\n",
    "* .count() -> 객수\n",
    "\n",
    "# 통계  - 요약값\n",
    "* .describe() -> 요약값 확인\n",
    "    * std -> 표준편차\n",
    "    * 25%는 앞에서 1/4 되는 값이고, 1사분위수\n",
    "    * 50%는 중앙값이고, 2사분위수\n",
    "    * 75%는 앞에서 3/4 번째 되는 수고, 3사분위수\n",
    "    * 두 개의 컬럼 확인 -> 데이터프레임 형태로 가져와야 확인 가능\n",
    "    * 기본값은 수치형 데이터만 계산(include=\"number\")\n",
    "    * 옵션을 include=\"objuect\" <- 문자열 데이터 타입 요약 가능\n",
    "        * top -> 가장 많이 등장한 object value\n",
    "        * freq -> 데이터 빈도수 표시\n",
    "    * include=\"all\" -> number와 object 모두 요약\n",
    "        * 결측치를 요약하지는 않는다.\n",
    "    "
   ]
  },
  {
   "cell_type": "code",
   "execution_count": 75,
   "id": "usual-isaac",
   "metadata": {},
   "outputs": [
    {
     "data": {
      "text/html": [
       "<div>\n",
       "<style scoped>\n",
       "    .dataframe tbody tr th:only-of-type {\n",
       "        vertical-align: middle;\n",
       "    }\n",
       "\n",
       "    .dataframe tbody tr th {\n",
       "        vertical-align: top;\n",
       "    }\n",
       "\n",
       "    .dataframe thead th {\n",
       "        text-align: right;\n",
       "    }\n",
       "</style>\n",
       "<table border=\"1\" class=\"dataframe\">\n",
       "  <thead>\n",
       "    <tr style=\"text-align: right;\">\n",
       "      <th></th>\n",
       "      <th>위도</th>\n",
       "      <th>경도</th>\n",
       "    </tr>\n",
       "  </thead>\n",
       "  <tbody>\n",
       "    <tr>\n",
       "      <th>count</th>\n",
       "      <td>91335.000000</td>\n",
       "      <td>91335.000000</td>\n",
       "    </tr>\n",
       "    <tr>\n",
       "      <th>mean</th>\n",
       "      <td>36.624711</td>\n",
       "      <td>127.487524</td>\n",
       "    </tr>\n",
       "    <tr>\n",
       "      <th>std</th>\n",
       "      <td>1.041361</td>\n",
       "      <td>0.842877</td>\n",
       "    </tr>\n",
       "    <tr>\n",
       "      <th>min</th>\n",
       "      <td>33.219290</td>\n",
       "      <td>124.717632</td>\n",
       "    </tr>\n",
       "    <tr>\n",
       "      <th>25%</th>\n",
       "      <td>35.811830</td>\n",
       "      <td>126.914297</td>\n",
       "    </tr>\n",
       "    <tr>\n",
       "      <th>50%</th>\n",
       "      <td>37.234652</td>\n",
       "      <td>127.084550</td>\n",
       "    </tr>\n",
       "    <tr>\n",
       "      <th>75%</th>\n",
       "      <td>37.507463</td>\n",
       "      <td>128.108919</td>\n",
       "    </tr>\n",
       "    <tr>\n",
       "      <th>max</th>\n",
       "      <td>38.499659</td>\n",
       "      <td>130.909912</td>\n",
       "    </tr>\n",
       "  </tbody>\n",
       "</table>\n",
       "</div>"
      ],
      "text/plain": [
       "                 위도            경도\n",
       "count  91335.000000  91335.000000\n",
       "mean      36.624711    127.487524\n",
       "std        1.041361      0.842877\n",
       "min       33.219290    124.717632\n",
       "25%       35.811830    126.914297\n",
       "50%       37.234652    127.084550\n",
       "75%       37.507463    128.108919\n",
       "max       38.499659    130.909912"
      ]
     },
     "execution_count": 75,
     "metadata": {},
     "output_type": "execute_result"
    }
   ],
   "source": [
    "df[\"위도\"].mean()\n",
    "df[[\"위도\", \"경도\"]].describe()"
   ]
  },
  {
   "cell_type": "markdown",
   "id": "designing-transcript",
   "metadata": {},
   "source": [
    "# 중복 제거\n",
    "\n",
    "* 중복을 제거한 값 ->  unique값 (문자형 데이터타입으로 요약시 확인 가능)\n",
    "* .unique() -> 중복을 제거한 값을 볼 수 있다.(값 확인)\n",
    "* .nunique() -> unique값의 갯수를 셀 수 있다.(값의 갯수 확인)\n",
    "    * nunique()사용 대신 len()으로도 갯수를 셀 수 있다."
   ]
  },
  {
   "cell_type": "code",
   "execution_count": 78,
   "id": "outdoor-australian",
   "metadata": {},
   "outputs": [
    {
     "data": {
      "text/plain": [
       "1"
      ]
     },
     "execution_count": 78,
     "metadata": {},
     "output_type": "execute_result"
    }
   ],
   "source": [
    "df[\"상권업종대분류명\"].unique()\n",
    "df[\"상권업종대분류명\"].nunique()\n",
    "len(df[\"상권업종대분류명\"].unique())"
   ]
  },
  {
   "cell_type": "markdown",
   "id": "measured-connecticut",
   "metadata": {},
   "source": [
    "# 통계 - 그룹화된 요약값\n",
    "\n",
    "* .value_counts() -> 카테고리 형태의 데이터 갯수를 셀 수 있다.\n",
    "* normalize=True 옵션 -> 비율을 구할 수 있다."
   ]
  },
  {
   "cell_type": "code",
   "execution_count": 81,
   "id": "pleased-lincoln",
   "metadata": {},
   "outputs": [
    {
     "data": {
      "text/plain": [
       "경기도        0.234993\n",
       "서울특별시      0.208266\n",
       "부산광역시      0.071166\n",
       "경상남도       0.054675\n",
       "인천광역시      0.051915\n",
       "대구광역시      0.050541\n",
       "경상북도       0.045528\n",
       "전라북도       0.042812\n",
       "충청남도       0.039338\n",
       "전라남도       0.035446\n",
       "광주광역시      0.035336\n",
       "대전광역시      0.033720\n",
       "충청북도       0.029432\n",
       "강원도        0.028959\n",
       "울산광역시      0.021956\n",
       "제주특별자치도    0.012039\n",
       "세종특별자치시    0.003881\n",
       "Name: 시도명, dtype: float64"
      ]
     },
     "execution_count": 81,
     "metadata": {},
     "output_type": "execute_result"
    }
   ],
   "source": [
    "city = df[\"시도명\"].value_counts()\n",
    "city_normalize = df[\"시도명\"].value_counts(normalize=True)\n",
    "city_normalize"
   ]
  },
  {
   "cell_type": "code",
   "execution_count": 83,
   "id": "afraid-estimate",
   "metadata": {},
   "outputs": [
    {
     "data": {
      "text/plain": [
       "<AxesSubplot:ylabel='시도명'>"
      ]
     },
     "execution_count": 83,
     "metadata": {},
     "output_type": "execute_result"
    },
    {
     "data": {
      "image/png": "[encoded data removed]",
      "text/plain": [
       "<Figure size 504x504 with 1 Axes>"
      ]
     },
     "metadata": {},
     "output_type": "display_data"
    }
   ],
   "source": [
    "city.plot.pie(figsize=(7,7)) #pie는 오해의 소지가 있고 한눈에 들어오지 않는다는 단점때문에 많이 사용하지 않는다."
   ]
  },
  {
   "cell_type": "code",
   "execution_count": null,
   "id": "understanding-naples",
   "metadata": {},
   "outputs": [],
   "source": []
  }
 ],
 "metadata": {
  "kernelspec": {
   "display_name": "Python 3",
   "language": "python",
   "name": "python3"
  },
  "language_info": {
   "codemirror_mode": {
    "name": "ipython",
    "version": 3
   },
   "file_extension": ".py",
   "mimetype": "text/x-python",
   "name": "python",
   "nbconvert_exporter": "python",
   "pygments_lexer": "ipython3",
   "version": "3.8.5"
  }
 },
 "nbformat": 4,
 "nbformat_minor": 5
}
