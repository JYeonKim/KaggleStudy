{
 "cells": [
  {
   "cell_type": "markdown",
   "id": "traditional-assist",
   "metadata": {},
   "source": [
    "# jupyter notebook 사용방법\n",
    "* shift + enter 키를 누르면 셀이 실행되고 커서가 다음셀로 이동합니다.\n",
    "* ctrl + enter 키를 누르면 셀 실행, 다음셀로 이동 안함\n",
    "* enter키를 누르면 다시 편집상태로 돌아옵니다.\n",
    "* esc 키를 누르고\n",
    "    * a 키를 누르면 위에 셀이 추가됩니다.\n",
    "    * b 키를 누르면 아래에 셀이 추가 됩니다.\n",
    "    * dd키를 누르면 셀이 삭제됩니다.\n",
    "    * m 키를 누르면 문서 셀로 변경됩니다.\n",
    "    * y 키를 누르면 코드 셀로 변경됩니다.\n",
    "* h 키를 누르면 주피터 셀 설정 설명을 볼 수 있다.\n",
    "* view에 toggle linenumber를 누르면 작성한 코드의 라인 넘버를 알 수 있다.\n",
    "* 오래 걸리는 코드는 stop버튼을 눌러 멈출 수 있다.\n",
    "* kernel -> restart & clear output을 누르면 주피터 노트북이 다시 실행이 되면서 코드 결과의 흔적들이 다 사라진다.\n",
    "* kernel -> restart & rul all을 누르면 주피터 노트북이 다시 실행되면서 셀을 순차적으로 실행해준다\n",
    "### 마크다운이란?\n",
    "* 코드와 함께 문서화 할 수 있다\n",
    "* 문서화 할 수 있는 '문법'이다.\n",
    "* #를 쓰고 반드시 한칸 공백을 주어야 마크다운을 사용할 수 있다.\n",
    "* esc+m을 누르면 코드도 마크다운 셀로 변경할 수 있다.\n",
    "'''\n",
    "여러 줄의 설명을\n",
    "줄바꿈으로 쓰고자 할 때\n",
    "'''"
   ]
  },
  {
   "cell_type": "code",
   "execution_count": 15,
   "id": "measured-understanding",
   "metadata": {},
   "outputs": [
    {
     "name": "stdout",
     "output_type": "stream",
     "text": [
      "Hello world\n"
     ]
    }
   ],
   "source": [
    "print(\"Hello world\")"
   ]
  },
  {
   "cell_type": "code",
   "execution_count": 16,
   "id": "alone-checkout",
   "metadata": {},
   "outputs": [
    {
     "data": {
      "text/plain": [
       "3"
      ]
     },
     "execution_count": 16,
     "metadata": {},
     "output_type": "execute_result"
    }
   ],
   "source": [
    "a = 1\n",
    "b = 2\n",
    "a+b"
   ]
  },
  {
   "cell_type": "markdown",
   "id": "regulated-oakland",
   "metadata": {},
   "source": [
    "# 학습하기\n",
    "* 소문자로 만들기 .lower()\n",
    "* 대문자로 만들기 .upper()\n",
    "* 리스트 추가 -> append()\n",
    "* 마지막 인덱스 -> -1\n",
    "* enumerate(리스트) -> 인덱스 번호와 원소 같이 사용가능"
   ]
  },
  {
   "cell_type": "code",
   "execution_count": 17,
   "id": "alert-league",
   "metadata": {},
   "outputs": [
    {
     "name": "stdout",
     "output_type": "stream",
     "text": [
      "0 appple\n",
      "1 banana\n"
     ]
    }
   ],
   "source": [
    "#enumerate 사용 예제\n",
    "list = [\"appple\", \"banana\"]\n",
    "for i, val in enumerate(list):\n",
    "    print(i,val)"
   ]
  },
  {
   "cell_type": "markdown",
   "id": "grand-financing",
   "metadata": {},
   "source": [
    "# 문자열\n",
    "* 앞뒤 공백 제거 -> .strip()\n",
    "* 문자열 길이 -> len(문자열)\n",
    "* 공백 기준으로 문자열 분리 -> split()\n",
    "* 슬라이싱 -> ex) list[:2]\n",
    "* .startswitch(\"문자\") -> 특정문자가 포함되는지 확인 가능 => 리턴값 boolen\n",
    "* in -> 특정 문자열 포함 확인 가능 ex) \"문자\" in  문자열"
   ]
  },
  {
   "cell_type": "markdown",
   "id": "auburn-roman",
   "metadata": {},
   "source": [
    "# 리스트\n",
    "* \"(어떤문자열로 연결할 것인지 여기에 결정)\".join -> 리스트로 분리된 문자열을 원하는 문자열로 연결할 수 있음.\n",
    "* in -> 리스트에 해당 데이터를 포함하고 있는지 확인 가능"
   ]
  },
  {
   "cell_type": "markdown",
   "id": "rotary-hello",
   "metadata": {},
   "source": [
    "# pandas\n",
    "* 수식으로 계산할 수 있고 시각화도 할 수 있는 데이터 분석도구\n",
    "* 공식문서 활용\n",
    "    * pd.DataFrame? <- 실행하면 공식문서를 볼 수 있다.\n",
    "    * pd.DataFrame(shift + tab + tab)\n",
    "* df[\"a\"] -> series 데이터\n",
    "* df[[\"a\"]] -> DataFrame 형태의 데이터\n",
    "    * DataFrame은 2차원의 구조를 가지고 series는 1차원의 구조를 가진다."
   ]
  },
  {
   "cell_type": "code",
   "execution_count": 18,
   "id": "passive-medicare",
   "metadata": {},
   "outputs": [
    {
     "data": {
      "text/html": [
       "<div>\n",
       "<style scoped>\n",
       "    .dataframe tbody tr th:only-of-type {\n",
       "        vertical-align: middle;\n",
       "    }\n",
       "\n",
       "    .dataframe tbody tr th {\n",
       "        vertical-align: top;\n",
       "    }\n",
       "\n",
       "    .dataframe thead th {\n",
       "        text-align: right;\n",
       "    }\n",
       "</style>\n",
       "<table border=\"1\" class=\"dataframe\">\n",
       "  <thead>\n",
       "    <tr style=\"text-align: right;\">\n",
       "      <th></th>\n",
       "      <th>a</th>\n",
       "      <th>b</th>\n",
       "      <th>c</th>\n",
       "    </tr>\n",
       "  </thead>\n",
       "  <tbody>\n",
       "    <tr>\n",
       "      <th>1</th>\n",
       "      <td>4</td>\n",
       "      <td>7</td>\n",
       "      <td>10</td>\n",
       "    </tr>\n",
       "    <tr>\n",
       "      <th>2</th>\n",
       "      <td>5</td>\n",
       "      <td>8</td>\n",
       "      <td>11</td>\n",
       "    </tr>\n",
       "    <tr>\n",
       "      <th>3</th>\n",
       "      <td>6</td>\n",
       "      <td>9</td>\n",
       "      <td>12</td>\n",
       "    </tr>\n",
       "  </tbody>\n",
       "</table>\n",
       "</div>"
      ],
      "text/plain": [
       "   a  b   c\n",
       "1  4  7  10\n",
       "2  5  8  11\n",
       "3  6  9  12"
      ]
     },
     "execution_count": 18,
     "metadata": {},
     "output_type": "execute_result"
    }
   ],
   "source": [
    "import pandas as pd\n",
    "\n",
    "df = pd.DataFrame(\n",
    "{\"a\" : [4, 5, 6],\n",
    "\"b\" : [7, 8, 9],\n",
    "\"c\" : [10, 11, 12]},\n",
    "index = [1, 2, 3]) # <- index 번호를 준 것. 값을 준 것이 아님.\n",
    "df"
   ]
  },
  {
   "cell_type": "markdown",
   "id": "sudden-copying",
   "metadata": {},
   "source": [
    "# subset\n",
    "* 인덱스를 조정해서 원하는 값만 가져올 수 있다\n",
    "* 주의 -> 두 개 이상의 값을 불러 올때는 DataFrame 형태로 불러와야 한다.\n",
    "    * 두 개 이상을 series로 불러오면 키값 오류 발생\n",
    "* columns 기준으로 값을 가져올 경우 대괄호 두번\n",
    "\n",
    "# summarize Data\n",
    "* .value_couts() -> 빈도수를 구한다\n",
    "* +) len(데이터프래임) -> 길이를 구할 수 있다."
   ]
  },
  {
   "cell_type": "code",
   "execution_count": 19,
   "id": "forbidden-timothy",
   "metadata": {},
   "outputs": [
    {
     "data": {
      "text/plain": [
       "1    4\n",
       "2    5\n",
       "3    6\n",
       "Name: a, dtype: int64"
      ]
     },
     "execution_count": 19,
     "metadata": {},
     "output_type": "execute_result"
    }
   ],
   "source": [
    "df[\"a\"]"
   ]
  },
  {
   "cell_type": "markdown",
   "id": "infectious-netherlands",
   "metadata": {},
   "source": [
    "# Reshaping\n",
    "\n",
    "### sort_values\n",
    "* .sort_values() -> 기준을 정해서 데이터 정렬가능\n",
    "    * 특정한 컬럼 기준으로 정렬할경우\n",
    "        ex) 데이터프레임[\"컬럼이름\"].sort_values()\n",
    "    * DataFrame 전체에서 값을 기준으로 정렬할 경우\n",
    "        ex) df.sort_values(\"값\")\n",
    "    * 역순 정렬 -> ascending=False를 주면 된다\n",
    "    \n",
    "### drop     \n",
    "* 특정 값을 drop하고 싶은 경우 -> .drop() 사용\n",
    "    * 행을 기준으로 할 것인지 컬럼을 기준으로 할 것인지 결정\n",
    "    * 디폴트 옵션 -> axis=0 (컬럼을 기준으로 drop)\n",
    "    * axis=1 -> 행을 기준으로 drop"
   ]
  },
  {
   "cell_type": "code",
   "execution_count": 20,
   "id": "interesting-merit",
   "metadata": {},
   "outputs": [
    {
     "data": {
      "text/plain": [
       "1    4\n",
       "2    5\n",
       "3    6\n",
       "Name: a, dtype: int64"
      ]
     },
     "execution_count": 20,
     "metadata": {},
     "output_type": "execute_result"
    }
   ],
   "source": [
    "df[\"a\"].sort_values()"
   ]
  },
  {
   "cell_type": "code",
   "execution_count": 21,
   "id": "viral-fraction",
   "metadata": {},
   "outputs": [
    {
     "data": {
      "text/html": [
       "<div>\n",
       "<style scoped>\n",
       "    .dataframe tbody tr th:only-of-type {\n",
       "        vertical-align: middle;\n",
       "    }\n",
       "\n",
       "    .dataframe tbody tr th {\n",
       "        vertical-align: top;\n",
       "    }\n",
       "\n",
       "    .dataframe thead th {\n",
       "        text-align: right;\n",
       "    }\n",
       "</style>\n",
       "<table border=\"1\" class=\"dataframe\">\n",
       "  <thead>\n",
       "    <tr style=\"text-align: right;\">\n",
       "      <th></th>\n",
       "      <th>a</th>\n",
       "      <th>b</th>\n",
       "      <th>c</th>\n",
       "    </tr>\n",
       "  </thead>\n",
       "  <tbody>\n",
       "    <tr>\n",
       "      <th>1</th>\n",
       "      <td>4</td>\n",
       "      <td>7</td>\n",
       "      <td>10</td>\n",
       "    </tr>\n",
       "    <tr>\n",
       "      <th>2</th>\n",
       "      <td>5</td>\n",
       "      <td>8</td>\n",
       "      <td>11</td>\n",
       "    </tr>\n",
       "    <tr>\n",
       "      <th>3</th>\n",
       "      <td>6</td>\n",
       "      <td>9</td>\n",
       "      <td>12</td>\n",
       "    </tr>\n",
       "  </tbody>\n",
       "</table>\n",
       "</div>"
      ],
      "text/plain": [
       "   a  b   c\n",
       "1  4  7  10\n",
       "2  5  8  11\n",
       "3  6  9  12"
      ]
     },
     "execution_count": 21,
     "metadata": {},
     "output_type": "execute_result"
    }
   ],
   "source": [
    "df.sort_values(\"a\")"
   ]
  },
  {
   "cell_type": "code",
   "execution_count": 22,
   "id": "european-smooth",
   "metadata": {},
   "outputs": [
    {
     "data": {
      "text/html": [
       "<div>\n",
       "<style scoped>\n",
       "    .dataframe tbody tr th:only-of-type {\n",
       "        vertical-align: middle;\n",
       "    }\n",
       "\n",
       "    .dataframe tbody tr th {\n",
       "        vertical-align: top;\n",
       "    }\n",
       "\n",
       "    .dataframe thead th {\n",
       "        text-align: right;\n",
       "    }\n",
       "</style>\n",
       "<table border=\"1\" class=\"dataframe\">\n",
       "  <thead>\n",
       "    <tr style=\"text-align: right;\">\n",
       "      <th></th>\n",
       "      <th>a</th>\n",
       "      <th>b</th>\n",
       "      <th>c</th>\n",
       "    </tr>\n",
       "  </thead>\n",
       "  <tbody>\n",
       "    <tr>\n",
       "      <th>3</th>\n",
       "      <td>6</td>\n",
       "      <td>9</td>\n",
       "      <td>12</td>\n",
       "    </tr>\n",
       "    <tr>\n",
       "      <th>2</th>\n",
       "      <td>5</td>\n",
       "      <td>8</td>\n",
       "      <td>11</td>\n",
       "    </tr>\n",
       "    <tr>\n",
       "      <th>1</th>\n",
       "      <td>4</td>\n",
       "      <td>7</td>\n",
       "      <td>10</td>\n",
       "    </tr>\n",
       "  </tbody>\n",
       "</table>\n",
       "</div>"
      ],
      "text/plain": [
       "   a  b   c\n",
       "3  6  9  12\n",
       "2  5  8  11\n",
       "1  4  7  10"
      ]
     },
     "execution_count": 22,
     "metadata": {},
     "output_type": "execute_result"
    }
   ],
   "source": [
    "df.sort_values(\"a\", ascending=False)"
   ]
  },
  {
   "cell_type": "code",
   "execution_count": 24,
   "id": "executed-pioneer",
   "metadata": {},
   "outputs": [
    {
     "data": {
      "text/html": [
       "<div>\n",
       "<style scoped>\n",
       "    .dataframe tbody tr th:only-of-type {\n",
       "        vertical-align: middle;\n",
       "    }\n",
       "\n",
       "    .dataframe tbody tr th {\n",
       "        vertical-align: top;\n",
       "    }\n",
       "\n",
       "    .dataframe thead th {\n",
       "        text-align: right;\n",
       "    }\n",
       "</style>\n",
       "<table border=\"1\" class=\"dataframe\">\n",
       "  <thead>\n",
       "    <tr style=\"text-align: right;\">\n",
       "      <th></th>\n",
       "      <th>a</th>\n",
       "      <th>b</th>\n",
       "    </tr>\n",
       "  </thead>\n",
       "  <tbody>\n",
       "    <tr>\n",
       "      <th>1</th>\n",
       "      <td>4</td>\n",
       "      <td>7</td>\n",
       "    </tr>\n",
       "    <tr>\n",
       "      <th>2</th>\n",
       "      <td>5</td>\n",
       "      <td>8</td>\n",
       "    </tr>\n",
       "    <tr>\n",
       "      <th>3</th>\n",
       "      <td>6</td>\n",
       "      <td>9</td>\n",
       "    </tr>\n",
       "  </tbody>\n",
       "</table>\n",
       "</div>"
      ],
      "text/plain": [
       "   a  b\n",
       "1  4  7\n",
       "2  5  8\n",
       "3  6  9"
      ]
     },
     "execution_count": 24,
     "metadata": {},
     "output_type": "execute_result"
    }
   ],
   "source": [
    "df = df.drop([\"c\"], axis=1)\n",
    "df"
   ]
  },
  {
   "cell_type": "markdown",
   "id": "hourly-forestry",
   "metadata": {},
   "source": [
    "# Group Data\n",
    "* pivot 과 pivot_table 과의 차이점\n",
    "    * pivot은 형태만 바꿈\n",
    "    * pivot table 은 값을 연산할 수 있음\n",
    "* .groupby([\"기준 컬럼값\"])[\"적용할 컬럼값\"]  **가장 어렵다고 느끼는 부분**\n",
    "    * grouby 후 사용할 수 있는 기능\n",
    "        * .mean() <- 평균값\n",
    "        * .agg([\"mean\", \"sum\", \"count\"]) \n",
    "        * .describe() <- 한번에 볼 수 있음"
   ]
  },
  {
   "cell_type": "code",
   "execution_count": 26,
   "id": "interesting-cooler",
   "metadata": {},
   "outputs": [
    {
     "data": {
      "text/plain": [
       "a\n",
       "4    7\n",
       "5    8\n",
       "6    9\n",
       "Name: b, dtype: int64"
      ]
     },
     "execution_count": 26,
     "metadata": {},
     "output_type": "execute_result"
    }
   ],
   "source": [
    "df.groupby([\"a\"])[\"b\"].mean()\n",
    "# a컬럼값을 기준으로 groupby 하여 b컬럼값으로 평균값을 구하는 코드"
   ]
  },
  {
   "cell_type": "code",
   "execution_count": 28,
   "id": "electric-account",
   "metadata": {},
   "outputs": [
    {
     "data": {
      "text/html": [
       "<div>\n",
       "<style scoped>\n",
       "    .dataframe tbody tr th:only-of-type {\n",
       "        vertical-align: middle;\n",
       "    }\n",
       "\n",
       "    .dataframe tbody tr th {\n",
       "        vertical-align: top;\n",
       "    }\n",
       "\n",
       "    .dataframe thead th {\n",
       "        text-align: right;\n",
       "    }\n",
       "</style>\n",
       "<table border=\"1\" class=\"dataframe\">\n",
       "  <thead>\n",
       "    <tr style=\"text-align: right;\">\n",
       "      <th></th>\n",
       "      <th>b</th>\n",
       "    </tr>\n",
       "    <tr>\n",
       "      <th>a</th>\n",
       "      <th></th>\n",
       "    </tr>\n",
       "  </thead>\n",
       "  <tbody>\n",
       "    <tr>\n",
       "      <th>4</th>\n",
       "      <td>7</td>\n",
       "    </tr>\n",
       "    <tr>\n",
       "      <th>5</th>\n",
       "      <td>8</td>\n",
       "    </tr>\n",
       "    <tr>\n",
       "      <th>6</th>\n",
       "      <td>9</td>\n",
       "    </tr>\n",
       "  </tbody>\n",
       "</table>\n",
       "</div>"
      ],
      "text/plain": [
       "   b\n",
       "a   \n",
       "4  7\n",
       "5  8\n",
       "6  9"
      ]
     },
     "execution_count": 28,
     "metadata": {},
     "output_type": "execute_result"
    }
   ],
   "source": [
    "pd.pivot_table(df, index=\"a\") #기본 설정은 mean이다\n",
    "# valudes =\"b\" 이렇게 따로 지정하는 것도 가능하다\n",
    "# aggfunc=\"sum\" <- 이렇게 따로 지정 가능"
   ]
  },
  {
   "cell_type": "markdown",
   "id": "marine-wheel",
   "metadata": {},
   "source": [
    "# plotting\n",
    "* 다양한 시각화 가능\n",
    "* .plot()로 사용\n",
    "* .plot.함수() <- 여러 그래프로 표현 가능"
   ]
  },
  {
   "cell_type": "code",
   "execution_count": null,
   "id": "fundamental-cowboy",
   "metadata": {},
   "outputs": [],
   "source": []
  }
 ],
 "metadata": {
  "kernelspec": {
   "display_name": "Python 3",
   "language": "python",
   "name": "python3"
  },
  "language_info": {
   "codemirror_mode": {
    "name": "ipython",
    "version": 3
   },
   "file_extension": ".py",
   "mimetype": "text/x-python",
   "name": "python",
   "nbconvert_exporter": "python",
   "pygments_lexer": "ipython3",
   "version": "3.8.5"
  }
 },
 "nbformat": 4,
 "nbformat_minor": 5
}
